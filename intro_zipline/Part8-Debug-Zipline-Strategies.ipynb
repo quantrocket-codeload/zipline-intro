{
 "cells": [
  {
   "cell_type": "markdown",
   "metadata": {},
   "source": [
    "<a href=\"https://www.quantrocket.com\"><img alt=\"QuantRocket logo\" src=\"https://www.quantrocket.com/assets/img/notebook-header-logo.png\"></a><br>\n",
    "<a href=\"https://www.quantrocket.com/disclaimer/\">Disclaimer</a>"
   ]
  },
  {
   "cell_type": "markdown",
   "metadata": {},
   "source": [
    "***\n",
    "[Zipline Intro](Introduction.ipynb) › Part 8: Debug Zipline Strategies\n",
    "***"
   ]
  },
  {
   "cell_type": "markdown",
   "metadata": {},
   "source": [
    "# Debugging Zipline Strategies"
   ]
  },
  {
   "cell_type": "markdown",
   "metadata": {},
   "source": [
    "The recommended workflow for developing a Zipline strategy is to start in a notebook, where you can develop your code interactively, then transfer the finished code to a `.py` file for backtesting. Once you've transitioned to the backtesting phase, you can use JupyterLab's built-in debugger to debug your strategy. The debugger allows you to set breakpoints and inspect variables as they change over the duration of your backtest simulation. This notebooks explains how to use the debugger."
   ]
  },
  {
   "cell_type": "markdown",
   "metadata": {},
   "source": [
    "## Introducing the `%zipline_backtest` IPython magic command for debugging\n",
    "\n",
    "To debug Zipline with the JupyterLab debugger, we can't use the `quantrocket.zipline.backtest` function that we used in an earlier lesson. That's because this function executes the backtest in a separate Docker container from JupyterLab, the `zipline` container. Instead, we can use a special IPython magic command, `%zipline_backtest`, that runs the backtest inside JupyterLab. The magic command works similarly to `quantrocket.zipline.backtest` but lacks some of its bells and whistles and is only intended for debugging purposes.  "
   ]
  },
  {
   "cell_type": "markdown",
   "metadata": {},
   "source": [
    "The debugging steps are as follows:\n",
    "\n",
    "1. Open the algorithm file [winners.py](../zipline/winners.py) in the JupyterLab editor.\n",
    "2. Right-click in the file and select \"Create Console for Editor\"\n",
    "3. Select the entire contents of the file (Ctrl+A on Windows or Cmd+A on Mac), then click Ctrl+Enter to load the algorithm into the console.\n",
    "4. Enable the debugger by clicking the debugger icon in the editor or console.\n",
    "5. Set breakpoints by clicking (in the editor or console) next to the line(s) you want the debugger to stop on. A red dot will appear beside the line.\n",
    "6. Run the backtest by typing the `%zipline_backtest` magic command in the console, specifying a start date and end date and, optionally, the bundle name. (Run `%zipline_backtest?` to see the function docstring and all available options.)\n",
    "\n",
    "```python\n",
    "%zipline_backtest -s 2017-01-01 -e 2017-02-01\n",
    "```\n",
    "7. The backtest will begin to run and the debugger will pause execution at the first breakpoint.\n",
    "8. In the Variables section of the Debugger window in JupyterLab, click the magnifying glass next to the variable name to inspect the value of the variable. This will open a new tab displaying the variable's value.\n",
    "9. In the Callstack section of the Debugger window, click the Play icon (▷) to resume execution. Execution will resume until the next breakpoint is reached.\n",
    "\n",
    "See the video below for a step-by-step demonstration."
   ]
  },
  {
   "cell_type": "code",
   "execution_count": 1,
   "metadata": {},
   "outputs": [
    {
     "data": {
      "text/html": [
       "\n",
       "        <iframe\n",
       "            width=\"700\"\n",
       "            height=\"394\"\n",
       "            src=\"https://player.vimeo.com/video/925185155\"\n",
       "            frameborder=\"0\"\n",
       "            allowfullscreen\n",
       "            \n",
       "        ></iframe>\n",
       "        "
      ],
      "text/plain": [
       "<IPython.lib.display.VimeoVideo at 0xffff42c604d0>"
      ]
     },
     "execution_count": 1,
     "metadata": {},
     "output_type": "execute_result"
    }
   ],
   "source": [
    "from IPython.display import VimeoVideo\n",
    "VimeoVideo('925185155', width=700, height=394)"
   ]
  },
  {
   "cell_type": "markdown",
   "metadata": {},
   "source": [
    "<div class=\"alert alert-warning\"> ⚠️ Due to an open issue in the current version of JupyterLab used in QuantRocket, please use Ctrl + Enter to copy code from the file editor to the console, not Shift + Enter as stated in the video.</div>"
   ]
  },
  {
   "cell_type": "markdown",
   "metadata": {},
   "source": [
    "***\n",
    "\n",
    "[Back to Introduction](Introduction.ipynb)"
   ]
  }
 ],
 "metadata": {
  "kernelspec": {
   "display_name": "Python 3.11",
   "language": "python",
   "name": "python3"
  },
  "language_info": {
   "codemirror_mode": {
    "name": "ipython",
    "version": 3
   },
   "file_extension": ".py",
   "mimetype": "text/x-python",
   "name": "python",
   "nbconvert_exporter": "python",
   "pygments_lexer": "ipython3",
   "version": "3.11.0"
  }
 },
 "nbformat": 4,
 "nbformat_minor": 4
}
