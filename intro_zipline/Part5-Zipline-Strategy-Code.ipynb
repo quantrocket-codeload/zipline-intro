{
 "cells": [
  {
   "cell_type": "markdown",
   "metadata": {},
   "source": [
    "<a href=\"https://www.quantrocket.com\"><img alt=\"QuantRocket logo\" src=\"https://www.quantrocket.com/assets/img/notebook-header-logo.png\"></a><br>\n",
    "<a href=\"https://www.quantrocket.com/disclaimer/\">Disclaimer</a>"
   ]
  },
  {
   "cell_type": "markdown",
   "metadata": {},
   "source": [
    "***\n",
    "[Zipline Intro](Introduction.ipynb) › Part 5: Zipline Code\n",
    "***"
   ]
  },
  {
   "cell_type": "markdown",
   "metadata": {},
   "source": [
    "# Zipline Strategy Code"
   ]
  },
  {
   "cell_type": "markdown",
   "metadata": {},
   "source": [
    "The strategy code is provided in [winners.py](winners.py)."
   ]
  },
  {
   "cell_type": "markdown",
   "metadata": {},
   "source": [
    "## Install strategy file\n",
    "\n",
    "To \"install\" the strategy, execute the following cell to move the strategy file to the `/codeload/zipline` directory, where Zipline looks:\n",
    "\n",
    "> The ! sytax below lets us execute terminal commands from inside the notebook."
   ]
  },
  {
   "cell_type": "code",
   "execution_count": 1,
   "metadata": {},
   "outputs": [],
   "source": [
    "# make directory if doesn't exist\n",
    "!mkdir -p /codeload/zipline\n",
    "\n",
    "!mv winners.py /codeload/zipline/"
   ]
  },
  {
   "cell_type": "markdown",
   "metadata": {},
   "source": [
    "## Strategy overview\n",
    "\n",
    "We define our pipeline in a helper function called `make_pipeline`, using code copied from an earlier notebook (note that we factor out our 252-day momentum window into a module-level attribute, `MOMENTUM_WINDOW`, which will facilitate running a parameter scan later):\n",
    "\n",
    "```python\n",
    "\n",
    "MOMENTUM_WINDOW = 252\n",
    "\n",
    "def make_pipeline():\n",
    "    \"\"\"\n",
    "    Create a pipeline that filters by dollar volume and \n",
    "    calculates return.\n",
    "    \"\"\"\n",
    "    pipeline = Pipeline(\n",
    "        columns={\n",
    "            \"returns\": Returns(window_length=MOMENTUM_WINDOW),\n",
    "        },\n",
    "        screen=AverageDollarVolume(window_length=30) > 10e6\n",
    "    )\n",
    "    return pipeline\n",
    "```\n",
    "\n",
    "In the `initialize` function (required in all Zipline strategies), we attach the pipeline to the algorithm, and we schedule a custom function called `rebalance` that will run every market day 30 minutes before the close:\n",
    "\n",
    "```python\n",
    "def initialize(context: algo.Context):\n",
    "    \"\"\"\n",
    "    Called once at the start of a backtest, and once per day in \n",
    "    live trading.\n",
    "    \"\"\"\n",
    "    # Attach the pipeline to the algo\n",
    "    algo.attach_pipeline(make_pipeline(), 'pipeline')\n",
    "\n",
    "    # Rebalance every day, 30 minutes before market close.\n",
    "    algo.schedule_function(\n",
    "        rebalance,\n",
    "        algo.date_rules.every_day(),\n",
    "        algo.time_rules.market_close(minutes=30),\n",
    "    )\n",
    "    \n",
    "```\n",
    "\n",
    "In `before_trading_start`, another built-in function which Zipline calls once per day before the market opens, we gather the pipeline output for that day and select our winners (copying code from an earlier notebook):\n",
    "\n",
    "```python\n",
    "def before_trading_start(context: algo.Context, data: algo.BarData):\n",
    "    \"\"\"\n",
    "    Called every day before market open.\n",
    "    \"\"\"\n",
    "    factors = algo.pipeline_output('pipeline')\n",
    "\n",
    "    # Get the top 3 stocks by return\n",
    "    returns = factors[\"returns\"].sort_values(ascending=False)\n",
    "    context.winners = returns.index[:3]\n",
    "```\n",
    "\n",
    "Finally, in the custom `rebalance` function which we scheduled to run before the close, we calculate the intraday returns (again copying code from an earlier notebook) and add logic for the entering and exiting of positions:\n",
    "\n",
    "```python\n",
    "def rebalance(context: algo.Context, data: algo.BarData):    \n",
    "    # calculate intraday returns for our winners\n",
    "    current_prices = data.current(context.winners, \"price\")\n",
    "    prior_closes = data.history(context.winners, \"close\", 2, \"1d\").iloc[0]\n",
    "    intraday_returns = (current_prices - prior_closes) / prior_closes\n",
    "    \n",
    "    positions = context.portfolio.positions\n",
    "    \n",
    "    # Exit positions we no longer want to hold\n",
    "    for asset, position in positions.items():\n",
    "        ...\n",
    "```\n"
   ]
  },
  {
   "cell_type": "markdown",
   "metadata": {},
   "source": [
    "***\n",
    "\n",
    "## *Next Up*\n",
    "\n",
    "Part 6: [Zipline Backtest](Part6-Zipline-Backtest.ipynb)"
   ]
  }
 ],
 "metadata": {
  "kernelspec": {
   "display_name": "Python 3.9",
   "language": "python",
   "name": "python3"
  },
  "language_info": {
   "codemirror_mode": {
    "name": "ipython",
    "version": 3
   },
   "file_extension": ".py",
   "mimetype": "text/x-python",
   "name": "python",
   "nbconvert_exporter": "python",
   "pygments_lexer": "ipython3",
   "version": "3.9.7"
  }
 },
 "nbformat": 4,
 "nbformat_minor": 4
}
