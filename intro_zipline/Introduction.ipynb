{
 "cells": [
  {
   "cell_type": "markdown",
   "metadata": {},
   "source": [
    "<a href=\"https://www.quantrocket.com\"><img alt=\"QuantRocket logo\" src=\"https://www.quantrocket.com/assets/img/notebook-header-logo.png\"></a><br>\n",
    "<a href=\"https://www.quantrocket.com/disclaimer/\">Disclaimer</a>"
   ]
  },
  {
   "cell_type": "markdown",
   "metadata": {},
   "source": [
    "# Getting Started with Zipline\n",
    "\n",
    "This tutorial shows you how to retrieve 1-minute historical sample data for US equities, analyze your data in a research notebook, and backtest a Zipline strategy that combines an end-of-day momentum factor with intraday entry timing. \n",
    "    \n",
    "**Data collection**\n",
    "\n",
    "* Part 1: [Historical Data Collection](Part1-Historical-Data-Collection.ipynb)\n",
    "\n",
    "**Research and Backtesting**\n",
    "\n",
    "*Research*\n",
    "\n",
    "* Part 2: [End-of-Day Trading Rules](Part2-End-of-Day-Trading-Rules.ipynb)\n",
    "* Part 3: [End-of-Day Analysis With Alphalens](Part3-End-of-Day-Analysis-With-Alphalens.ipynb)\n",
    "* Part 4: [Intraday Trading Rules](Part4-Intraday-Trading-Rules.ipynb)\n",
    "\n",
    "*Zipline*\n",
    "\n",
    "* Part 5: [Zipline Strategy Code](Part5-Zipline-Strategy-Code.ipynb)\n",
    "* Part 6: [Zipline Backtest](Part6-Zipline-Backtest.ipynb)\n",
    "* Part 7: [Zipline Parameter Scans](Part7-Zipline-Parameter-Scans.ipynb)"
   ]
  }
 ],
 "metadata": {
  "kernelspec": {
   "display_name": "Python 3.11",
   "language": "python",
   "name": "python3"
  },
  "language_info": {
   "codemirror_mode": {
    "name": "ipython",
    "version": 3
   },
   "file_extension": ".py",
   "mimetype": "text/x-python",
   "name": "python",
   "nbconvert_exporter": "python",
   "pygments_lexer": "ipython3",
   "version": "3.11.0"
  }
 },
 "nbformat": 4,
 "nbformat_minor": 4
}
