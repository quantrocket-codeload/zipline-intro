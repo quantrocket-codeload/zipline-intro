{
 "cells": [
  {
   "cell_type": "markdown",
   "metadata": {},
   "source": [
    "<img alt=\"QuantRocket logo\" src=\"https://www.quantrocket.com/assets/img/notebook-header-logo.png\">\n",
    "\n",
    "<a href=\"https://www.quantrocket.com/disclaimer/\">Disclaimer</a>"
   ]
  },
  {
   "cell_type": "markdown",
   "metadata": {},
   "source": [
    "# Intraday Trading Rules\n",
    "\n",
    "Our trading strategy will buy recent winners as computed by our end-of-day pipeline. But we will try to improve the strategy performance by adding an intraday twist: we will only buy if the security is down for the day. In other words, we will enter positions on a counter-move.  "
   ]
  },
  {
   "cell_type": "markdown",
   "metadata": {},
   "source": [
    "Testing the performance of intraday trading rules generally requires running a full backtest. However, to facilitate writing the code, you can access intraday data in a notebook using the same API that is available in a Zipline strategy. This allows you to get your code semantics right before transitioning to a backtest. "
   ]
  },
  {
   "cell_type": "markdown",
   "metadata": {},
   "source": [
    "## Introducing the Data Object\n",
    "In a Zipline strategy, two parameters are passed to user-defined functions: the `context` parameter, where users can store custom variables about the algorithm's state, and the `data` parameter, which is used to access intraday (and optionally end-of-day) price data:\n",
    "\n",
    "```python\n",
    "def handle_data(context, data):\n",
    "   ...\n",
    "```"
   ]
  },
  {
   "cell_type": "markdown",
   "metadata": {},
   "source": [
    "The `data` parameter passed to Zipline functions is always tied to the current simulation minute. That is, if it is currently 2020-07-01 at 3:30 PM within the backtest simulation, the `data` object allows you to query prices as of that minute and looking backward from that minute.  \n",
    "\n",
    "You can access the `data` object in notebooks by specifying a particular \"as-of\" minute you want to use:"
   ]
  },
  {
   "cell_type": "code",
   "execution_count": 1,
   "metadata": {},
   "outputs": [],
   "source": [
    "from zipline.research import get_data\n",
    "data = get_data(\"2020-07-01 15:30:00\") # no bundle specified, so the default bundle will be used"
   ]
  },
  {
   "cell_type": "markdown",
   "metadata": {},
   "source": [
    "## Load assets\n",
    "\n",
    "The `data` object's methods take one or more Zipline assets (`zipline.assets.Asset`) as their first argument. There are two ways to get assets in a notebook.\n",
    "\n",
    "The first option is to run a pipeline and get the assets from the factor data. For example, using our previous pipeline, we could have accessed assets like this:\n",
    "\n",
    "```python\n",
    "factors = run_pipeline(pipeline, start_date=\"2018-01-01\", end_date=\"2012-01-01\")\n",
    "assets = factors.xs(\"2018-01-02\").index\n",
    "```\n",
    "\n",
    "The second option, which we will demonstrate here, is to use the `sid` function to load asset objects by sid. First, look up the sids in the master database:"
   ]
  },
  {
   "cell_type": "code",
   "execution_count": 2,
   "metadata": {},
   "outputs": [
    {
     "data": {
      "text/html": [
       "<div>\n",
       "<style scoped>\n",
       "    .dataframe tbody tr th:only-of-type {\n",
       "        vertical-align: middle;\n",
       "    }\n",
       "\n",
       "    .dataframe tbody tr th {\n",
       "        vertical-align: top;\n",
       "    }\n",
       "\n",
       "    .dataframe thead th {\n",
       "        text-align: right;\n",
       "    }\n",
       "</style>\n",
       "<table border=\"1\" class=\"dataframe\">\n",
       "  <thead>\n",
       "    <tr style=\"text-align: right;\">\n",
       "      <th></th>\n",
       "      <th>Symbol</th>\n",
       "      <th>Exchange</th>\n",
       "    </tr>\n",
       "    <tr>\n",
       "      <th>Sid</th>\n",
       "      <th></th>\n",
       "      <th></th>\n",
       "    </tr>\n",
       "  </thead>\n",
       "  <tbody>\n",
       "    <tr>\n",
       "      <th>FIBBG000B9XRY4</th>\n",
       "      <td>AAPL</td>\n",
       "      <td>XNAS</td>\n",
       "    </tr>\n",
       "    <tr>\n",
       "      <th>FIBBG000BMHYD1</th>\n",
       "      <td>JNJ</td>\n",
       "      <td>XNYS</td>\n",
       "    </tr>\n",
       "  </tbody>\n",
       "</table>\n",
       "</div>"
      ],
      "text/plain": [
       "               Symbol Exchange\n",
       "Sid                           \n",
       "FIBBG000B9XRY4   AAPL     XNAS\n",
       "FIBBG000BMHYD1    JNJ     XNYS"
      ]
     },
     "execution_count": 2,
     "metadata": {},
     "output_type": "execute_result"
    }
   ],
   "source": [
    "from quantrocket.master import get_securities\n",
    "securities = get_securities(symbols=['AAPL','JNJ'], fields=['Symbol', 'Exchange'], vendors=\"usstock\")\n",
    "securities"
   ]
  },
  {
   "cell_type": "markdown",
   "metadata": {},
   "source": [
    "Then load the asset objects:"
   ]
  },
  {
   "cell_type": "code",
   "execution_count": 3,
   "metadata": {},
   "outputs": [],
   "source": [
    "from zipline.research import sid\n",
    "\n",
    "aapl = sid(\"FIBBG000B9XRY4\") # no bundle specified, so the default bundle will be used\n",
    "jnj = sid(\"FIBBG000BMHYD1\")"
   ]
  },
  {
   "cell_type": "markdown",
   "metadata": {},
   "source": [
    "Now we can use the `data` object to calculate the intraday return as of the simulation minute we chose:"
   ]
  },
  {
   "cell_type": "code",
   "execution_count": 4,
   "metadata": {},
   "outputs": [
    {
     "data": {
      "text/plain": [
       "Equity(FIBBG000B9XRY4 [AAPL])   -0.000713\n",
       "Equity(FIBBG000BMHYD1 [JNJ])     0.001387\n",
       "dtype: float64"
      ]
     },
     "execution_count": 4,
     "metadata": {},
     "output_type": "execute_result"
    }
   ],
   "source": [
    "current_prices = data.current([aapl, jnj], \"price\")\n",
    "prior_closes = data.history([aapl, jnj], \"close\", 2, \"1d\").iloc[0]\n",
    "intraday_returns = (current_prices - prior_closes) / prior_closes\n",
    "intraday_returns"
   ]
  },
  {
   "cell_type": "markdown",
   "metadata": {},
   "source": [
    "We will later transfer this snippet of code to our Zipline `.py` file, where it will be used to determine whether to enter."
   ]
  },
  {
   "cell_type": "markdown",
   "metadata": {},
   "source": [
    "***\n",
    "\n",
    "## *Next Up*\n",
    "\n",
    "Part 5: [Zipline Strategy Code](Part5-Zipline-Strategy-Code.ipynb)"
   ]
  }
 ],
 "metadata": {
  "kernelspec": {
   "display_name": "Python 3.9",
   "language": "python",
   "name": "python3"
  },
  "language_info": {
   "codemirror_mode": {
    "name": "ipython",
    "version": 3
   },
   "file_extension": ".py",
   "mimetype": "text/x-python",
   "name": "python",
   "nbconvert_exporter": "python",
   "pygments_lexer": "ipython3",
   "version": "3.9.12"
  }
 },
 "nbformat": 4,
 "nbformat_minor": 4
}
